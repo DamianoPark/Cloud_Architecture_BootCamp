{
 "cells": [
  {
   "cell_type": "markdown",
   "metadata": {},
   "source": [
    "## 가장 가벼운 서비스, 라이트 세일\n",
    "### 라이트 세일\n",
    "아마존 라이트 세일에는 클라우드 환경에서 어떤 서비스든 간에, 빠르게 시작하는데 필요한 모든것 ( 가상 머신, SSd 기반 스토리지, 데이터 전송, DNS관리, 고정 IP)이 포함되있습니다.  \n",
    "사용자는 인스턴스를 생성한 후 손쉽게 관련 인스턴스에 연결할 수 있으며 라이트 세일 API 또는 CLI(명령줄 인터페이스)를 사용하여 간단히 관리할 수 있습니다.  \n",
    "<br>\n",
    "<br>\n",
    "### 라이트 세일 VS EC2  \n",
    "- 라이트 세일 :   \n",
    "> `단계`  \n",
    "인스턴스 생성 -> 플랫폼 블루프린트 선택 -> 시작   \n",
    "    `주 사용` \n",
    "    - 웹사이트,블로그  \n",
    "    - 단순앱 \n",
    "    - 개발 및 테스트 환경\n",
    "    - 소수의 서버로 구성된 비즈니스 소프트웨어\n",
    "\n",
    "<br>\n",
    "\n",
    "- EC2 (elastic compute cloud) :  \n",
    "> `단계`  \n",
    "인스턴스 생성 -> 이미지 선택 -> 인스턴스 유형 -> 인스턴스 구성 -> 스토리지 추가 -> 태그 추가-> 보안 그룹 구성 -> 검토 -> 시작   \n",
    "    `주 사용`  \n",
    "    - 빅데이터 분석\n",
    "    - 고성능 컴퓨팅\n",
    "    - 멀티-티어 어플리케이션\n"
   ]
  },
  {
   "cell_type": "markdown",
   "metadata": {},
   "source": [
    "## 워드 프레스 블로그 구축"
   ]
  },
  {
   "cell_type": "markdown",
   "metadata": {},
   "source": [
    "**실습 요약**  \n",
    "> 1. AWS 라이트 세일 접속  \n",
    "2. 라이트 세일 인스턴스 생성  \n",
    "3. 라이트세일 인스턴스 확인  \n",
    "4. 워드프레스 사용자 설정( 기본페이지 접속 및 확인)  \n",
    "5. 워드프레서 관리자 설정  \n",
    "    A. 사용자명, 패스워드 설정을 위한 원격 서버 접속  \n",
    "    B. 비트나미 (SSH) 접속을 통한 아이디 패스워드 생성  \n",
    "    C. 워드프레스 관리자 페이지 접속 및 확인"
   ]
  },
  {
   "cell_type": "markdown",
   "metadata": {},
   "source": [
    "## 워드프레스 - AWS 폴리\n",
    "**실습 요약**  \n",
    "> 1. 워드프레스 플러그 인 설정 \n",
    "2. 라이트세일 기반 워드프레스 사용을 위한 IAM 설정  \n",
    "    A. 정책 설정  \n",
    "    B. 정책 생성 및 검토  \n",
    "    C. 사용자 설정  \n",
    "    D. 사용자 생성  \n",
    "    E. 기존 정책과 사용자 연결  \n",
    "    F. 사용자 관리 키 보관  \n",
    "3. 워드프레스 플러그인 아마존 폴리 설정 및 사용  \n",
    "4. 라이트세일 종료"
   ]
  }
 ],
 "metadata": {
  "hide_input": false,
  "kernelspec": {
   "display_name": "Python 3",
   "language": "python",
   "name": "python3"
  },
  "language_info": {
   "codemirror_mode": {
    "name": "ipython",
    "version": 3
   },
   "file_extension": ".py",
   "mimetype": "text/x-python",
   "name": "python",
   "nbconvert_exporter": "python",
   "pygments_lexer": "ipython3",
   "version": "3.7.1"
  },
  "toc": {
   "base_numbering": 1,
   "nav_menu": {},
   "number_sections": true,
   "sideBar": true,
   "skip_h1_title": false,
   "title_cell": "Table of Contents",
   "title_sidebar": "Contents",
   "toc_cell": false,
   "toc_position": {},
   "toc_section_display": true,
   "toc_window_display": true
  },
  "varInspector": {
   "cols": {
    "lenName": 16,
    "lenType": 16,
    "lenVar": 40
   },
   "kernels_config": {
    "python": {
     "delete_cmd_postfix": "",
     "delete_cmd_prefix": "del ",
     "library": "var_list.py",
     "varRefreshCmd": "print(var_dic_list())"
    },
    "r": {
     "delete_cmd_postfix": ") ",
     "delete_cmd_prefix": "rm(",
     "library": "var_list.r",
     "varRefreshCmd": "cat(var_dic_list()) "
    }
   },
   "types_to_exclude": [
    "module",
    "function",
    "builtin_function_or_method",
    "instance",
    "_Feature"
   ],
   "window_display": false
  }
 },
 "nbformat": 4,
 "nbformat_minor": 2
}
