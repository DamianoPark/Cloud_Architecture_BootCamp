{
 "cells": [
  {
   "cell_type": "markdown",
   "metadata": {},
   "source": [
    "## 빅데이터 데이터 베이스\n",
    "---\n",
    "### 전통적 데이터 베이스 : RDBMS  \n",
    "<br> \n",
    "\n",
    "- Amazon RDS  \n",
    "아마존 RDS는 클라우드에서 관계형 데이터 베이스를 쉽게 설정, 운영, 확장 할 수 있습니다.  \n",
    "        1. 하드웨어 프로비저닝, 데이터베이스 설정, 패치, 백업과 같은 시간 소모적인 관리 작업을 자동화  \n",
    "        2. 비용면에서 효율적이며 확장 가능한 관계형 데이터베이스 용량 제공  \n",
    "\n",
    "### 비관계형 데이터 베이스 No SQL  \n",
    "No SQL (Not Only SQL) \n",
    "<br> \n",
    "\n",
    "- 키 밸류 : 다이나모 DB  \n",
    "다이나모 DB는 완전 관리형 키밸류 기반 NoSQL 데이터베이스  \n",
    "<br> \n",
    "\n",
    "- 문서 DB  \n",
    "도큐먼트 DB는 쿼리의 자유도와 다양성에 최적화되어있음 -> 유연한 쿼리 가능  \n",
    "<br>   \n",
    "\n",
    "- 인메모리 DB : AWS 엘라스틱 캐시  \n",
    "인메모리 DB는 디스크가 아닌 주메모리에 데이터를 보유  \n",
    "디스크 검색보다 자료접근이 훨씬 빠르다는 장점  \n",
    "\n",
    "<br> \n",
    "\n",
    "- 그래프 DB : 넵튠  \n",
    "그래프 이론을 토데로 둔 데이터 베이스  \n",
    "노드로 불리는 데이터 엔티티와 데이터 간의 관계를 정의해주는 에지(링크)로 이루어짐  \n",
    "데이터 간의 관계를 질의하려는 목적으로 주로 사용  \n",
    "<br> \n",
    "\n",
    "- TimeSeries 시계열 DB : AWS 타임스트림   \n",
    "시간 간격을 두고 기록되는 데이터 베이스   \n",
    "시간이 축이 되어 데이터의 변동을 나타냄 -많은 데이터가 발생학 때문에 일반적인 RDBMS에서는 성능에 부담됨  \n",
    "<br> \n",
    "\n",
    "- 원장 DB & 퀀텀 DB : 아마존 QLDB  \n",
    "원장은 일반적으로 위변조를 막으려는 목적으로 금융이나 신원확인 공급망, 네트워크 내역 유지 관리를 위해 사용 됨  \n",
    "QLDB 사용시 자체 원장형 애플리케이션을 만들지 않아도 사용가능한 데이터베이스.  \n",
    "QLDB는 데이터의 변경 내역의 변경이나 수정이 불가능, 애플리케이션의 데이터에 의도치 않은 수정 등을 쉽게 확인 가능  \n",
    "\n"
   ]
  },
  {
   "cell_type": "markdown",
   "metadata": {},
   "source": [
    "## 다이나모 DB CRUD  \n",
    "### 실습 아키텍처  \n",
    "<center>AWS 웹 콘솔 ==========> 다이나모 디비 </center>  \n",
    "<center>데이터 질의 </center>   \n",
    "\n",
    "**실습요약**  \n",
    "> 1. 다이나모 DB 테이블 만들기  \n",
    "    A. 테이블 이름 : UnivStudent  \n",
    "    B. 기본키 : univ_name + univ_id  \n",
    "2. 테이블 데이터 추가  \n",
    "3. 데이터 수정 및 삭제  \n",
    "4. 데이터 스캔과 쿼리  \n",
    "5. 테이블 삭제    \n",
    "\n",
    "<br> \n",
    "\n",
    "---\n",
    "#### 1단계 : 테이블 만들기  \n",
    "테이블 이름 : UnivStudent  \n",
    "기본 키 : univ_name  \n",
    "\\+ 추가로 `정렬키`로 학번을 사용하여 기본키를 구성  ( 중복 방지 )   \n",
    "\n",
    "<br> \n",
    "\n",
    "#### 2단계 : 테이블 항목 추가   \n",
    "PutItem 작업을 사용하여 테이블에 항목을 추가\n",
    "\n",
    "<br> \n",
    "\n",
    "#### 3단계 : Dynamo DB 테이블 읽기   \n",
    "DynamoDB에서 검색을 하려면 반드시 기본키(Primary Key)로 인덱스(Index)를 생성해야합니다.  DynamoDB가 지원하는 기본 키 형식은 두 가지입니다.  \n",
    "\n",
    "> - 해시(Hash) 형식 기본 키 : 속성 하나를 기본 키로 사용합니다. 키의 값은 스칼라 데이터 형식만 가능합니다. 일치(Equal) 방식 검색만 지원합니다.  \n",
    "- 해시와 범위(Range) 형식 기본 키 : 속성 두 개를 기본 키로 사용합니다(복합키). 첫 번째 속성은 해시 기본 키로 사용하고 두 번째 속성은 범위 기본 키로 사용하여 두 가지를 복합적으로 사용합니다. 일치(Equal), 부등호, 포함, ~로 시작등의 검색을 지원합니다.\n",
    "  \n",
    "---  \n",
    "\n",
    "추가적으로 검색 기능을 위해 보조 인덱스(Secondary Index) 생성을 지원합니다.\n",
    "\n",
    "> - 로컬 보조 인덱스(Local Secondary Index) : 해시 키는 테이블 인덱스의 해시 기본 키와 같고, 범위 키는 다르게 설정한 것입니다.  \n",
    "- 글로벌 보조 인덱스(Global Secondary Index) : 해시 키와 범위 키 모두 테이블 인덱스와 다르게 설정한 것입니다.\n",
    "---\n",
    "\n",
    "Dynamo DB 조회 방법  \n",
    "> - Get Item – 테이블에서 단일 항목을 가져옵니다. 이는 항목의 물리적 위치에 대한 직접 액세스를 제공하기 때문에 단일 항목을 읽는 가장 효율적인 방법입니다. DynamoDB도 BatchGetItem 작업을 제공하여 최대 100개의 GetItem 호출을 단일 작업으로 수행할 수 있습니다.  \n",
    "- Query – 특정 파티션 키가 있는 모든 항목을 가져옵니다. 이러한 항목 안에서 키를 정렬하고 데이터의 하위 집합만 가져오도록 조건을 적용할 수 있습니다. Query는 데이터가 저장된 파티션에 대한 빠르고 효율적인 액세스를 제공합니다.  \n",
    "- Scan – 지정한 테이블의 모든 항목을 가져옵니다. (이 작업은 시스템 리소스를 많이 사용할 수 있으므로 큰 테이블에는 사용해서는 안 됩니다.)  "
   ]
  }
 ],
 "metadata": {
  "hide_input": false,
  "kernelspec": {
   "display_name": "Python 3",
   "language": "python",
   "name": "python3"
  },
  "language_info": {
   "codemirror_mode": {
    "name": "ipython",
    "version": 3
   },
   "file_extension": ".py",
   "mimetype": "text/x-python",
   "name": "python",
   "nbconvert_exporter": "python",
   "pygments_lexer": "ipython3",
   "version": "3.7.1"
  },
  "toc": {
   "base_numbering": 1,
   "nav_menu": {},
   "number_sections": true,
   "sideBar": true,
   "skip_h1_title": false,
   "title_cell": "Table of Contents",
   "title_sidebar": "Contents",
   "toc_cell": false,
   "toc_position": {},
   "toc_section_display": true,
   "toc_window_display": true
  },
  "varInspector": {
   "cols": {
    "lenName": 16,
    "lenType": 16,
    "lenVar": 40
   },
   "kernels_config": {
    "python": {
     "delete_cmd_postfix": "",
     "delete_cmd_prefix": "del ",
     "library": "var_list.py",
     "varRefreshCmd": "print(var_dic_list())"
    },
    "r": {
     "delete_cmd_postfix": ") ",
     "delete_cmd_prefix": "rm(",
     "library": "var_list.r",
     "varRefreshCmd": "cat(var_dic_list()) "
    }
   },
   "types_to_exclude": [
    "module",
    "function",
    "builtin_function_or_method",
    "instance",
    "_Feature"
   ],
   "window_display": false
  }
 },
 "nbformat": 4,
 "nbformat_minor": 2
}
